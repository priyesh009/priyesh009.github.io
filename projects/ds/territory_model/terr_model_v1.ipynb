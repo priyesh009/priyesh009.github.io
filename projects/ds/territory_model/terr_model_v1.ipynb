{
 "cells": [
  {
   "cell_type": "code",
   "execution_count": null,
   "id": "041b3fac",
   "metadata": {},
   "outputs": [],
   "source": [
    "# Territory Factor Enhancement with Hexagons & Credibility\n",
    "\n",
    "# --- 1. Libraries ---\n",
    "import pandas as pd\n",
    "import numpy as np\n",
    "import h3\n",
    "import matplotlib.pyplot as plt\n",
    "import seaborn as sns\n",
    "from shapely.geometry import Point, Polygon\n",
    "import geopandas as gpd\n",
    "\n",
    "# --- 2. Load Data ---\n",
    "df = pd.read_csv(\"territory_factors.csv\")\n",
    "print(df.head())\n",
    "\n",
    "# --- 3. Credibility Adjustment ---\n",
    "# Exposure credibility threshold\n",
    "MIN_EXPOSURE = 50000\n",
    "\n",
    "def apply_credibility(row, neighbors_df):\n",
    "    if row['exposure'] >= MIN_EXPOSURE:\n",
    "        return row['loss_cost']\n",
    "    else:\n",
    "        # Use neighbors' exposure & loss cost\n",
    "        neighbors = neighbors_df.sample(3, replace=True, random_state=42)  # placeholder\n",
    "        weights = neighbors['exposure'] / neighbors['exposure'].sum()\n",
    "        return np.dot(neighbors['loss_cost'].fillna(0), weights)\n",
    "\n",
    "df['cred_adj_loss_cost'] = df.apply(\n",
    "    lambda r: apply_credibility(r, df), axis=1\n",
    ")\n",
    "\n",
    "# --- 4. Inverse Distance Weighting (for new ZIPs) ---\n",
    "# Example: ZIP 46206 has no exposure/losses\n",
    "target_zip = \"46206\"\n",
    "target_row = df[df['zip_code'] == target_zip]\n",
    "\n",
    "if target_row['exposure'].values[0] == 0:\n",
    "    neighbors = df[df['exposure'] > 0].copy()\n",
    "    neighbors['distance'] = np.random.uniform(1,10,len(neighbors))  # placeholder distances\n",
    "    neighbors['weight'] = 1 / neighbors['distance']\n",
    "    neighbors['weight'] = neighbors['weight'] / neighbors['weight'].sum()\n",
    "    predicted_factor = np.dot(neighbors['cred_adj_loss_cost'], neighbors['weight'])\n",
    "    df.loc[df['zip_code'] == target_zip, 'cred_adj_loss_cost'] = predicted_factor\n",
    "\n",
    "# --- 5. Results ---\n",
    "print(df[['zip_code','loss_cost','cred_adj_loss_cost']])\n",
    "\n",
    "# --- 6. Visualization ---\n",
    "sns.scatterplot(data=df, x='exposure', y='cred_adj_loss_cost', hue='zip_code')\n",
    "plt.title(\"Credibility-Adjusted Loss Costs by Exposure\")\n",
    "plt.show()\n"
   ]
  }
 ],
 "metadata": {
  "kernelspec": {
   "display_name": "Python 3 (ipykernel)",
   "language": "python",
   "name": "python3"
  },
  "language_info": {
   "codemirror_mode": {
    "name": "ipython",
    "version": 3
   },
   "file_extension": ".py",
   "mimetype": "text/x-python",
   "name": "python",
   "nbconvert_exporter": "python",
   "pygments_lexer": "ipython3",
   "version": "3.9.13"
  }
 },
 "nbformat": 4,
 "nbformat_minor": 5
}

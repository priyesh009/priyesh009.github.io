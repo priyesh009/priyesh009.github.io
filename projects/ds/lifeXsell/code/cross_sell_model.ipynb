{
 "cells": [
  {
   "cell_type": "markdown",
   "id": "a2106806",
   "metadata": {},
   "source": [
    "# Life Insurance Cross-Sell Prediction\n",
    "\n",
    "This notebook demonstrates an end-to-end machine learning workflow for predicting which existing insurance customers are most likely to purchase life insurance.\n",
    "We use a synthetic dataset (`cross_sell_data.csv`) to simulate real-world cross-sell modeling.\n"
   ]
  },
  {
   "cell_type": "code",
   "execution_count": null,
   "id": "094478f2",
   "metadata": {},
   "outputs": [],
   "source": [
    "import pandas as pd\n",
    "import numpy as np\n",
    "import matplotlib.pyplot as plt\n",
    "import seaborn as sns\n",
    "from sklearn.model_selection import train_test_split\n",
    "from sklearn.preprocessing import LabelEncoder\n",
    "from sklearn.linear_model import LogisticRegression\n",
    "from sklearn.ensemble import RandomForestClassifier, GradientBoostingClassifier\n",
    "from sklearn.metrics import classification_report, roc_auc_score, confusion_matrix, ConfusionMatrixDisplay\n"
   ]
  },
  {
   "cell_type": "code",
   "execution_count": null,
   "id": "c75f21cb",
   "metadata": {},
   "outputs": [],
   "source": [
    "# Load dataset\n",
    "df = pd.read_csv('cross_sell_data.csv')\n",
    "df.head()\n"
   ]
  },
  {
   "cell_type": "code",
   "execution_count": null,
   "id": "3f237eea",
   "metadata": {},
   "outputs": [],
   "source": [
    "# Exploratory Data Analysis\n",
    "print(df.describe(include='all'))\n",
    "\n",
    "# Distribution of target\n",
    "sns.countplot(data=df, x='cross_sell_flag')\n",
    "plt.title('Cross-Sell Target Distribution')\n",
    "plt.show()\n",
    "\n",
    "# Age distribution\n",
    "sns.histplot(df['age'], bins=20, kde=True)\n",
    "plt.title('Age Distribution')\n",
    "plt.show()\n"
   ]
  },
  {
   "cell_type": "code",
   "execution_count": null,
   "id": "575c6eb1",
   "metadata": {},
   "outputs": [],
   "source": [
    "# Encode categorical variable\n",
    "df_encoded = df.copy()\n",
    "le = LabelEncoder()\n",
    "df_encoded['income_bracket'] = le.fit_transform(df_encoded['income_bracket'])\n",
    "\n",
    "# Features and target\n",
    "X = df_encoded.drop(columns=['customer_id','cross_sell_flag','life_policies_2024','life_policies_2025'])\n",
    "y = df_encoded['cross_sell_flag']\n",
    "\n",
    "X_train, X_test, y_train, y_test = train_test_split(X, y, test_size=0.3, random_state=42, stratify=y)\n"
   ]
  },
  {
   "cell_type": "code",
   "execution_count": null,
   "id": "bfa07bcd",
   "metadata": {},
   "outputs": [],
   "source": [
    "models = {\n",
    "    \"Logistic Regression\": LogisticRegression(max_iter=500),\n",
    "    \"Random Forest\": RandomForestClassifier(n_estimators=100, random_state=42),\n",
    "    \"Gradient Boosting\": GradientBoostingClassifier(n_estimators=100, random_state=42)\n",
    "}\n",
    "\n",
    "results = {}\n",
    "\n",
    "for name, model in models.items():\n",
    "    model.fit(X_train, y_train)\n",
    "    y_pred = model.predict(X_test)\n",
    "    y_proba = model.predict_proba(X_test)[:,1]\n",
    "    auc = roc_auc_score(y_test, y_proba)\n",
    "    print(f\"\\n{name} - AUC: {auc:.3f}\")\n",
    "    print(classification_report(y_test, y_pred))\n",
    "    cm = confusion_matrix(y_test, y_pred)\n",
    "    disp = ConfusionMatrixDisplay(confusion_matrix=cm)\n",
    "    disp.plot()\n",
    "    plt.title(f'{name} - Confusion Matrix')\n",
    "    plt.show()\n"
   ]
  },
  {
   "cell_type": "code",
   "execution_count": null,
   "id": "87b86475",
   "metadata": {},
   "outputs": [],
   "source": [
    "# Feature importance from Random Forest\n",
    "rf = models['Random Forest']\n",
    "importances = pd.Series(rf.feature_importances_, index=X.columns)\n",
    "importances.sort_values().plot(kind='barh')\n",
    "plt.title('Feature Importance - Random Forest')\n",
    "plt.show()\n"
   ]
  },
  {
   "cell_type": "code",
   "execution_count": null,
   "id": "ef4ff12a",
   "metadata": {},
   "outputs": [],
   "source": [
    "# Business Insights\n",
    "print(\"\"\"Key takeaways:\n",
    "- Gradient Boosting / Random Forest typically outperform Logistic Regression in predictive power.\n",
    "- Policy mix (number of home/auto/farm policies) and income bracket are strong indicators of cross-sell success.\n",
    "- Customers with no recent claims are more receptive to new offers.\n",
    "\"\"\"\")"
   ]
  }
 ],
 "metadata": {},
 "nbformat": 4,
 "nbformat_minor": 5
}
